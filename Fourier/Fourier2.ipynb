{
 "cells": [
  {
   "cell_type": "markdown",
   "metadata": {},
   "source": [
    "#                                                 <span style=\"color:purple\">**Series de Fourier**</span>"
   ]
  },
  {
   "cell_type": "markdown",
   "metadata": {},
   "source": [
    "##### Autor: Carlos Keleanderson Pereira da Silva"
   ]
  },
  {
   "cell_type": "markdown",
   "metadata": {},
   "source": [
    "#### Sabemos que a séride de fourier pode se escrita da seguinte forma:\n",
    " #                       $f(x) = \\sum_{k=0}^{\\infty}a_k\\cos(k\\frac{2\\pi x}{L})+b_k\\sin(k\\frac{2\\pi x}{L})$\n",
    "#### Sendo:\n",
    "#                        $a_k = \\frac{2}{L}\\int_{-L/2}^{L/2}f(x)\\cos(\\frac{k \\pi t}{L})dx$\n",
    "#                        $b_k = \\frac{2}{L}\\int_{-L/2}^{L/2}f(x)\\sin(\\frac{k\\pi t}{L})dx$"
   ]
  },
  {
   "cell_type": "markdown",
   "metadata": {},
   "source": [
    "#### O primeiro método que vamos utilizar é a partir de bibliotecas pré prontas em python. A principal delas é a biblioteca sympy que trabalha com simbólicos, além de ter um bom ferramental de calculo e, no presente arquivo, de séries de Fourier. Por isso escolhi primeiro trabalhar desta forma; acredito que fique mais intuitivo, principalmente para quem está começando a estudar Fourier."
   ]
  },
  {
   "cell_type": "code",
   "execution_count": null,
   "metadata": {},
   "outputs": [],
   "source": [
    "import numpy as np\n",
    "import matplotlib.pyplot as plt\n",
    "from matplotlib.animation import FuncAnimation\n",
    "from sympy import symbols, fourier_series, lambdify\n",
    "from sympy.plotting import plot\n",
    "from ipywidgets import interact"
   ]
  },
  {
   "cell_type": "code",
   "execution_count": 13,
   "metadata": {
    "scrolled": true
   },
   "outputs": [],
   "source": [
    "x = symbols('x') # a variável x é simbólica\n",
    "\n",
    "#iniciando a figura ao qual o grafico irá ser plotado\n",
    "fig = plt.figure(figsize=(15,15)) # setando onde irá ser desenhado cada frame do gráfico\n",
    "axis = plt.axes(xlim=(-np.pi-1,np.pi+1), ylim=(-4.5,4.5),xlabel='$t$',ylabel='$f(t)$') #definindo algumas preferencias\n",
    "line, = axis.plot([],[],lw=2, color='b') # setando as preferências da primeira curva\n",
    "line2, = axis.plot([],[],lw=2,color='r') # setando as preferências da segunda curva\n",
    "axis.grid() #setando grid \n",
    "\n",
    "xp = np.linspace(-12,12,1000) # vetor x no qual será plotado as funções\n",
    "\n",
    "#criando a função init() para inicializar a animação\n",
    "def init():\n",
    "    line.set_data([],[])\n",
    "    line2.set_data(xp,xp)\n",
    "    return line, line2\n",
    "\n",
    "# função iterativa de animação\n",
    "def animate_fourier(k):\n",
    "    s1 = fourier_series(x, (x,-np.pi,np.pi)).truncate(k)\n",
    "    f1 = lambdify(x,s1,'numpy')\n",
    "    plt.title('Série de Fourier com N = {} termos'.format(k), fontsize=16, color='b')\n",
    "    line.set_data(xp,f1(xp))\n",
    "    \n",
    "    return line,\n",
    "\n",
    "# definido os parâmetros da animação \n",
    "#anim = FuncAnimation(fig, animate_fourier, init_func=init,frames=20,interval=500,blit=True)\n",
    "#anim.save('Fourier1.mp4', writer='ffmpeg') #Salvando a animação"
   ]
  },
  {
   "cell_type": "markdown",
   "metadata": {},
   "source": [
    "#### Vamos agora tentar fazer o algoritmo da série de fourier utilizando a noção de produto interno para calcular os coeficientes $a_n$ e $b_n$ ( ou $a_k$ e $b_k$; depende da bibliografia)."
   ]
  },
  {
   "cell_type": "code",
   "execution_count": 14,
   "metadata": {},
   "outputs": [],
   "source": [
    "import numpy as np\n",
    "import matplotlib.pyplot as plt\n",
    "from scipy.fftpack import fft, fftfreq"
   ]
  },
  {
   "cell_type": "markdown",
   "metadata": {},
   "source": [
    "#### Primeiro nós vamos definir uma função qualquer. Fique livre para editar ou fazer sua própria função. Aqui eu pus 3 funções testes que podem ser observadas fazendo um simples plot"
   ]
  },
  {
   "cell_type": "code",
   "execution_count": 15,
   "metadata": {},
   "outputs": [],
   "source": [
    "def func_fourier(x):\n",
    "    f = []\n",
    "    for i in x:\n",
    "        if i>=-np.pi and i<0:\n",
    "            f.append(1/np.pi*i+1)\n",
    "        elif i<=np.pi and i>=0:\n",
    "            f.append(-1/np.pi*i+1)\n",
    "        else:\n",
    "            f.append(0)\n",
    "    return f\n",
    "\n",
    "def func_fourier2(x):\n",
    "    f = []\n",
    "    for i in x:\n",
    "        if i>=-1 and i<=1:\n",
    "            f.append(1)\n",
    "        else:\n",
    "            f.append(0)\n",
    "    return f\n",
    "\n",
    "def func_fourier3(x):\n",
    "    f =[]\n",
    "    for i in x:\n",
    "        if i<0 and i>=-1:\n",
    "            f.append(-1)\n",
    "        elif i>=0 and i<=1:\n",
    "            f.append(1)\n",
    "        else:\n",
    "            f.append(0)\n",
    "    return f\n"
   ]
  },
  {
   "cell_type": "markdown",
   "metadata": {},
   "source": [
    "#### Logo abaixo vamos criar o algorítmo padrão encontrar a Série de Fourier (que estará na variável FS) com n termos escolhidos no argumento da função range() que está no for loop."
   ]
  },
  {
   "cell_type": "code",
   "execution_count": 16,
   "metadata": {},
   "outputs": [],
   "source": [
    "# Aqui vamos encontrar a série de fourier Para uma onda triangular como já vista acima.\n",
    "dx = 0.001\n",
    "L = 2*np.pi\n",
    "x = np.arange(-L,L,dx)\n",
    "f = func_fourier(x)\n",
    "\n",
    "a0 = (2/L)*np.sum(f * np.ones_like(x))*dx\n",
    "FS = a0/2\n",
    "\n",
    "for n in range(5):\n",
    "    an = (2/L)*np.sum(f * np.cos((n+1)*2*np.pi*x/L))*dx\n",
    "    bn = (2/L)*np.sum(f * np.sin((n+1)*2*np.pi*x/L))*dx\n",
    "    FS += an*np.cos((n+1)*2*np.pi*x/L)+bn*np.sin((n+1)*2*np.pi*x/L)\n",
    "\n"
   ]
  },
  {
   "cell_type": "code",
   "execution_count": 17,
   "metadata": {
    "scrolled": true
   },
   "outputs": [
    {
     "data": {
      "text/plain": [
       "[<matplotlib.lines.Line2D at 0x127d5c91208>,\n",
       " <matplotlib.lines.Line2D at 0x127d65589c8>]"
      ]
     },
     "execution_count": 17,
     "metadata": {},
     "output_type": "execute_result"
    }
   ],
   "source": [
    "plt.plot(x,FS,x,f)"
   ]
  },
  {
   "cell_type": "code",
   "execution_count": 18,
   "metadata": {},
   "outputs": [],
   "source": [
    "dx = 0.001\n",
    "L = 2*2\n",
    "x = np.arange(-2*L,2*L,dx)\n",
    "f = func_fourier2(x)\n",
    "\n",
    "a0 = (2/L)*np.sum(f * np.ones_like(x))*dx\n",
    "FS = a0/2\n",
    "\n",
    "for n in range(3):\n",
    "    an = (2/L)*np.sum(f * np.cos((n+1)*2*np.pi*x/L))*dx\n",
    "    bn = (2/L)*np.sum(f * np.sin((n+1)*2*np.pi*x/L))*dx\n",
    "    FS += an*np.cos((n+1)*2*np.pi*x/L)+bn*np.sin((n+1)*2*np.pi*x/L)\n",
    "\n"
   ]
  },
  {
   "cell_type": "code",
   "execution_count": 19,
   "metadata": {},
   "outputs": [
    {
     "data": {
      "text/plain": [
       "[<matplotlib.lines.Line2D at 0x127d6a6ce08>,\n",
       " <matplotlib.lines.Line2D at 0x127d6a6cf08>]"
      ]
     },
     "execution_count": 19,
     "metadata": {},
     "output_type": "execute_result"
    }
   ],
   "source": [
    "plt.plot(x,FS,x,f)"
   ]
  },
  {
   "cell_type": "code",
   "execution_count": 20,
   "metadata": {},
   "outputs": [],
   "source": [
    "n_points = 200\n",
    "Ts = 4\n",
    "\n",
    "x1 = np.linspace(-Ts/2,Ts/2,n_points)\n",
    "\n",
    "f = func_fourier2(x1)\n",
    "freqs = fftfreq(n_points,(Ts/2-(-Ts/2))/n_points)\n",
    "marcador = freqs>=0\n",
    "p_fft = fft(f)\n",
    "p2_fft = 2.*np.abs(p_fft)/n_points"
   ]
  },
  {
   "cell_type": "code",
   "execution_count": 21,
   "metadata": {},
   "outputs": [
    {
     "data": {
      "text/plain": [
       "<matplotlib.collections.PathCollection at 0x127cdf81908>"
      ]
     },
     "execution_count": 21,
     "metadata": {},
     "output_type": "execute_result"
    },
    {
     "data": {
      "image/png": "[encoded data removed]",
      "text/plain": [
       "<Figure size 1440x720 with 2 Axes>"
      ]
     },
     "metadata": {
      "needs_background": "light"
     },
     "output_type": "display_data"
    }
   ],
   "source": [
    "%matplotlib inline\n",
    "fig, ax = plt.subplots(nrows=1,ncols=2, figsize=(20,10))\n",
    "ax[1].grid()\n",
    "ax[0].plot(x1,f)\n",
    "ax[1].scatter(freqs[marcador],p2_fft[marcador])"
   ]
  },
  {
   "cell_type": "markdown",
   "metadata": {},
   "source": [
    "#### Fazer uma vizualisação de Fourier"
   ]
  },
  {
   "cell_type": "code",
   "execution_count": 22,
   "metadata": {},
   "outputs": [],
   "source": [
    "def coef_fourier(termo,func,sample=200,limites=[-np.pi,np.pi]):\n",
    "    \"\"\"\n",
    "    Essa função deve retornar o módulo e o angulo de um termo de uma transformada de fourier\n",
    "    \"\"\"\n",
    "    \n",
    "    func_fft = 2*np.abs(np.fft.fft(func))/sample\n",
    "    freq = np.fft.fftfreq(sample,(limites[1]-limites[0])/sample)\n",
    "    \n",
    "    return [func_fft[termo],freq[termo]]\n",
    "    "
   ]
  },
  {
   "cell_type": "code",
   "execution_count": 23,
   "metadata": {},
   "outputs": [
    {
     "data": {
      "image/png": "[encoded data removed]",
      "text/plain": [
       "<Figure size 432x288 with 1 Axes>"
      ]
     },
     "metadata": {
      "needs_background": "light"
     },
     "output_type": "display_data"
    }
   ],
   "source": [
    "fig, axis = plt.figure(), plt.axes()\n",
    "\n",
    "circulo = plt.Circle((0,0),coef_fourier(0,f,limites=[-2,2])[0],alpha = 0.5)\n",
    "axis.add_artist(circulo)\n",
    "axis.set_xlim(-3,3)\n",
    "axis.set_ylim(-2,2)\n",
    "axis.grid()"
   ]
  },
  {
   "cell_type": "code",
   "execution_count": null,
   "metadata": {},
   "outputs": [],
   "source": []
  }
 ],
 "metadata": {
  "kernelspec": {
   "display_name": "Python 3",
   "language": "python",
   "name": "python3"
  },
  "language_info": {
   "codemirror_mode": {
    "name": "ipython",
    "version": 3
   },
   "file_extension": ".py",
   "mimetype": "text/x-python",
   "name": "python",
   "nbconvert_exporter": "python",
   "pygments_lexer": "ipython3",
   "version": "3.7.9"
  }
 },
 "nbformat": 4,
 "nbformat_minor": 4
}
